{
  "nbformat": 4,
  "nbformat_minor": 5,
  "metadata": {
    "accelerator": "TPU",
    "colab": {
      "name": "W207 Final Project",
      "provenance": [],
      "collapsed_sections": [],
      "machine_shape": "hm"
    },
    "environment": {
      "kernel": "python3",
      "name": "tf2-gpu.2-3.m82",
      "type": "gcloud",
      "uri": "gcr.io/deeplearning-platform-release/tf2-gpu.2-3:m82"
    },
    "kernelspec": {
      "display_name": "Python 3",
      "language": "python",
      "name": "python3"
    },
    "language_info": {
      "codemirror_mode": {
        "name": "ipython",
        "version": 3
      },
      "file_extension": ".py",
      "mimetype": "text/x-python",
      "name": "python",
      "nbconvert_exporter": "python",
      "pygments_lexer": "ipython3",
      "version": "3.7.10"
    }
  },
  "cells": [
    {
      "cell_type": "code",
      "metadata": {
        "colab": {
          "base_uri": "https://localhost:8080/"
        },
        "id": "p4X-H6Nbta4x",
        "outputId": "bc3cd6b5-aa0b-42e0-d445-68582fc5da80"
      },
      "source": [
        "from google.colab import drive\n",
        "drive.mount('/content/drive')"
      ],
      "id": "p4X-H6Nbta4x",
      "execution_count": null,
      "outputs": [
        {
          "name": "stdout",
          "output_type": "stream",
          "text": [
            "Go to this URL in a browser: https://accounts.google.com/o/oauth2/auth?client_id=947318989803-6bn6qk8qdgf4n4g3pfee6491hc0brc4i.apps.googleusercontent.com&redirect_uri=urn%3aietf%3awg%3aoauth%3a2.0%3aoob&scope=email%20https%3a%2f%2fwww.googleapis.com%2fauth%2fdocs.test%20https%3a%2f%2fwww.googleapis.com%2fauth%2fdrive%20https%3a%2f%2fwww.googleapis.com%2fauth%2fdrive.photos.readonly%20https%3a%2f%2fwww.googleapis.com%2fauth%2fpeopleapi.readonly%20https%3a%2f%2fwww.googleapis.com%2fauth%2fdrive.activity.readonly%20https%3a%2f%2fwww.googleapis.com%2fauth%2fexperimentsandconfigs%20https%3a%2f%2fwww.googleapis.com%2fauth%2fphotos.native&response_type=code\n",
            "\n",
            "Enter your authorization code:\n",
            "4/1AX4XfWijbeIs_9784eO8k-Q_-3k4O2XFRPm1RhlLThE5yVESIn4ie5ohjHE\n",
            "Mounted at /content/drive\n"
          ]
        }
      ]
    },
    {
      "cell_type": "markdown",
      "metadata": {
        "id": "lqpsWlLBG8tC"
      },
      "source": [
        "<hr>\n",
        "\n",
        "## Imports"
      ],
      "id": "lqpsWlLBG8tC"
    },
    {
      "cell_type": "code",
      "metadata": {
        "colab": {
          "background_save": true
        },
        "id": "cd76d970-5a30-4853-8fc0-76e8d2280318"
      },
      "source": [
        "import numpy as np\n",
        "import pandas as pd\n",
        "import pathlib\n",
        "import matplotlib.pyplot as plt\n",
        "from matplotlib import image\n",
        "import glob\n",
        "import cv2\n",
        "import os\n",
        "import zipfile\n",
        "import pyarrow as pa\n",
        "import pyarrow.parquet as pq\n",
        "import gc\n",
        "import time\n",
        "import sys\n",
        "\n",
        "import sklearn\n",
        "from sklearn.model_selection import train_test_split\n",
        "from sklearn.utils import shuffle\n",
        "from sklearn.model_selection import GridSearchCV\n",
        "from sklearn.metrics import classification_report\n",
        "from sklearn.naive_bayes import GaussianNB\n",
        "from sklearn.metrics import confusion_matrix\n",
        "import timeit\n",
        "\n",
        "base_path = pathlib.Path('/content/drive/MyDrive/W207/Data/')"
      ],
      "id": "cd76d970-5a30-4853-8fc0-76e8d2280318",
      "execution_count": null,
      "outputs": []
    },
    {
      "cell_type": "markdown",
      "metadata": {
        "id": "VpyR8BLiHBNZ"
      },
      "source": [
        "<hr>\n",
        "\n",
        "## Helper Methods"
      ],
      "id": "VpyR8BLiHBNZ"
    },
    {
      "cell_type": "code",
      "metadata": {
        "id": "0HfTnp0Lz2H0"
      },
      "source": [
        "def timeit(f):\n",
        "    def wrap(*args, **kw):\n",
        "        ts = time.time()\n",
        "        result = f(*args, **kw)\n",
        "        te = time.time()\n",
        "        print(f'func:{f.__name__} args:[{args}, {kw}] took: {te-ts:2.4f} sec')        \n",
        "        return result\n",
        "    return wrap"
      ],
      "id": "0HfTnp0Lz2H0",
      "execution_count": null,
      "outputs": []
    },
    {
      "cell_type": "markdown",
      "metadata": {
        "id": "xXDw4lrjHGg6"
      },
      "source": [
        "<hr>\n",
        "\n",
        "## Load Data"
      ],
      "id": "xXDw4lrjHGg6"
    },
    {
      "cell_type": "code",
      "metadata": {
        "colab": {
          "base_uri": "https://localhost:8080/"
        },
        "id": "yH4pPWHxVFuD",
        "outputId": "2a015e34-67df-4f48-c050-9db2d93a52c9"
      },
      "source": [
        "@timeit\n",
        "def load():\n",
        "  path = base_path / 'X_train.pq'\n",
        "  table = pq.read_table(str(path))\n",
        "  table = table.to_pandas().to_numpy()\n",
        "  return table\n",
        "\n",
        "X_train = load()\n",
        "y_train = np.array(pd.read_csv(base_path / 'X_labels.csv'"
      ],
      "id": "yH4pPWHxVFuD",
      "execution_count": null,
      "outputs": [
        {
          "name": "stdout",
          "output_type": "stream",
          "text": [
            "func:load args:[(), {}] took: 54.7783 sec\n"
          ]
        }
      ]
    },
    {
      "cell_type": "code",
      "metadata": {
        "colab": {
          "base_uri": "https://localhost:8080/",
          "height": 269
        },
        "id": "a1617688",
        "outputId": "e2fc6b57-4b54-4856-8a08-2749acb330e8"
      },
      "source": [
        "plt.rc('image', cmap='gray')\n",
        "plt.imshow(X_train[5].reshape(200,200))\n",
        "plt.show()"
      ],
      "id": "a1617688",
      "execution_count": 7,
      "outputs": [
        {
          "output_type": "display_data",
          "data": {
            "image/png": "[encoded data removed]",
            "text/plain": [
              "<Figure size 432x288 with 1 Axes>"
            ]
          },
          "metadata": {
            "needs_background": "light"
          }
        }
      ]
    },
    {
      "cell_type": "markdown",
      "metadata": {
        "id": "OwEgJN2LHd0g"
      },
      "source": [
        "<hr>\n",
        "\n",
        "## Cleanup"
      ],
      "id": "OwEgJN2LHd0g"
    },
    {
      "cell_type": "code",
      "metadata": {
        "id": "b65441ed-e924-4020-bf58-bb6d52c34579"
      },
      "source": [
        "# plt.rc('image', cmap='gray')\n",
        "# plt.imshow(X_train[0].reshape(200,200))\n",
        "# plt.show()"
      ],
      "id": "b65441ed-e924-4020-bf58-bb6d52c34579",
      "execution_count": null,
      "outputs": []
    },
    {
      "cell_type": "code",
      "metadata": {
        "colab": {
          "base_uri": "https://localhost:8080/",
          "height": 231
        },
        "id": "191ab83a-a233-4d22-8eda-c01a0178104c",
        "outputId": "3f716e5d-578f-4981-acf4-049a118dc99c"
      },
      "source": [
        "# X_train = np.array(X_train)\n",
        "# y_train = np.array(y_train)\n",
        "labels = list(set(y_train.tolist()))\n",
        "examples = np.array(X_train)\n",
        "num_examples = 1\n",
        "\n",
        "# Create empty list to add digit example indexes to\n",
        "image_index_list = []\n",
        "# use list comprehension to identify indexes of digits 0-9 and add to a list called image_index_list\n",
        "[image_index_list.extend(list(np.where(y_train==labels[label])[0][:num_examples])) for label in range(len(labels))]\n",
        "image_index_list = sorted(image_index_list)\n",
        "\n",
        "plt.rc('image', cmap='gray')\n",
        "fig, ax = plt.subplots(6, 5, figsize=(25,25))\n",
        "# Setting counter to be used for image index\n",
        "counter = 0\n",
        "\n",
        "for i in range(6):\n",
        "    for num in range(5):\n",
        "        if counter < len(image_index_list): #27:\n",
        "            ind = image_index_list[counter]\n",
        "            # Displaying image on correct subplot\n",
        "            ax[i, num].imshow(X_train[ind].reshape(200,200))\n",
        "            # remove axises\n",
        "            ax[i,num].axis('off')\n",
        "            # Printing titles above each digit\n",
        "            ax[i,num].set_title('ASL: '+y_train[ind]+' Example')\n",
        "            counter+=1\n",
        "plt.axis('off')\n",
        "plt.show()"
      ],
      "id": "191ab83a-a233-4d22-8eda-c01a0178104c",
      "execution_count": null,
      "outputs": [
        {
          "ename": "TypeError",
          "evalue": "ignored",
          "output_type": "error",
          "traceback": [
            "\u001b[0;31m---------------------------------------------------------------------------\u001b[0m",
            "\u001b[0;31mTypeError\u001b[0m                                 Traceback (most recent call last)",
            "\u001b[0;32m<ipython-input-17-a0a187e49b42>\u001b[0m in \u001b[0;36m<module>\u001b[0;34m()\u001b[0m\n\u001b[1;32m      1\u001b[0m \u001b[0;31m# X_train = np.array(X_train)\u001b[0m\u001b[0;34m\u001b[0m\u001b[0;34m\u001b[0m\u001b[0;34m\u001b[0m\u001b[0m\n\u001b[1;32m      2\u001b[0m \u001b[0;31m# y_train = np.array(y_train)\u001b[0m\u001b[0;34m\u001b[0m\u001b[0;34m\u001b[0m\u001b[0;34m\u001b[0m\u001b[0m\n\u001b[0;32m----> 3\u001b[0;31m \u001b[0mlabels\u001b[0m \u001b[0;34m=\u001b[0m \u001b[0mlist\u001b[0m\u001b[0;34m(\u001b[0m\u001b[0mset\u001b[0m\u001b[0;34m(\u001b[0m\u001b[0my_train\u001b[0m\u001b[0;34m.\u001b[0m\u001b[0mtolist\u001b[0m\u001b[0;34m(\u001b[0m\u001b[0;34m)\u001b[0m\u001b[0;34m)\u001b[0m\u001b[0;34m)\u001b[0m\u001b[0;34m\u001b[0m\u001b[0;34m\u001b[0m\u001b[0m\n\u001b[0m\u001b[1;32m      4\u001b[0m \u001b[0mexamples\u001b[0m \u001b[0;34m=\u001b[0m \u001b[0mnp\u001b[0m\u001b[0;34m.\u001b[0m\u001b[0marray\u001b[0m\u001b[0;34m(\u001b[0m\u001b[0mX_train\u001b[0m\u001b[0;34m)\u001b[0m\u001b[0;34m\u001b[0m\u001b[0;34m\u001b[0m\u001b[0m\n\u001b[1;32m      5\u001b[0m \u001b[0mnum_examples\u001b[0m \u001b[0;34m=\u001b[0m \u001b[0;36m1\u001b[0m\u001b[0;34m\u001b[0m\u001b[0;34m\u001b[0m\u001b[0m\n",
            "\u001b[0;31mTypeError\u001b[0m: unhashable type: 'list'"
          ]
        }
      ]
    },
    {
      "cell_type": "code",
      "metadata": {
        "id": "2ac3e732-ecd8-423a-9a72-7564516a8c1b"
      },
      "source": [
        "#Shuffle the dataset\n",
        "X_train,y_train = shuffle(X_train,y_train,random_state=18)"
      ],
      "id": "2ac3e732-ecd8-423a-9a72-7564516a8c1b",
      "execution_count": null,
      "outputs": []
    },
    {
      "cell_type": "code",
      "metadata": {
        "id": "b545ae01-9d8a-4767-a884-a838554fe616"
      },
      "source": [
        "# train test split to\n",
        "x_train,x_test,y_train,y_test = train_test_split(X_train,y_train,test_size=0.2)"
      ],
      "id": "b545ae01-9d8a-4767-a884-a838554fe616",
      "execution_count": null,
      "outputs": []
    },
    {
      "cell_type": "markdown",
      "metadata": {
        "id": "yZmg8TV8H5rp"
      },
      "source": [
        "<hr>\n",
        "\n",
        "## Naive Bayes"
      ],
      "id": "yZmg8TV8H5rp"
    },
    {
      "cell_type": "code",
      "metadata": {
        "colab": {
          "base_uri": "https://localhost:8080/"
        },
        "id": "250107a8-ce31-4bf8-bec4-85c38d216602",
        "outputId": "932dc635-4a90-4dc7-a223-eb2bc6976760"
      },
      "source": [
        "# Using the Multinomial Naive Bayes, fit and predict, and generate f1 score.    \n",
        "def mnb_score(alpha, train_vectors, dev_vectors):\n",
        "    clf = MultinomialNB(alpha=alpha)\n",
        "    clf.fit(train_vectors, train_labels)\n",
        "    dev_pred = clf.predict(dev_vectors)\n",
        "    score = metrics.f1_score(dev_labels, dev_pred, average='weighted')\n",
        "    return (alpha, score)"
      ],
      "id": "250107a8-ce31-4bf8-bec4-85c38d216602",
      "execution_count": null,
      "outputs": [
        {
          "name": "stderr",
          "output_type": "stream",
          "text": [
            "/usr/local/lib/python3.7/dist-packages/sklearn/naive_bayes.py:206: DataConversionWarning: A column-vector y was passed when a 1d array was expected. Please change the shape of y to (n_samples, ), for example using ravel().\n",
            "  y = column_or_1d(y, warn=True)\n"
          ]
        },
        {
          "data": {
            "text/plain": [
              "GaussianNB(priors=None, var_smoothing=1e-09)"
            ]
          },
          "execution_count": 15,
          "metadata": {},
          "output_type": "execute_result"
        }
      ]
    },
    {
      "cell_type": "markdown",
      "metadata": {
        "id": "3LfXlcttIUDg"
      },
      "source": [
        "<hr>\n",
        "\n",
        "## Logistic Regression"
      ],
      "id": "3LfXlcttIUDg"
    },
    {
      "cell_type": "code",
      "metadata": {
        "id": "CzNDgbild0rU"
      },
      "source": [
        ""
      ],
      "id": "CzNDgbild0rU",
      "execution_count": null,
      "outputs": []
    },
    {
      "cell_type": "markdown",
      "metadata": {
        "id": "LfcjzbayIZtY"
      },
      "source": [
        "<hr>\n",
        "\n",
        "## Convolutional Neural Networks"
      ],
      "id": "LfcjzbayIZtY"
    },
    {
      "cell_type": "code",
      "metadata": {
        "id": "45ad0b34-5848-4019-979f-6e6dd619abb5"
      },
      "source": [
        ""
      ],
      "id": "45ad0b34-5848-4019-979f-6e6dd619abb5",
      "execution_count": null,
      "outputs": []
    }
  ]
}